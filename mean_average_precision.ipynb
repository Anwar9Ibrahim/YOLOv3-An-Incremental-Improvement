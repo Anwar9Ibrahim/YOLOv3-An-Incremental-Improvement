{
  "nbformat": 4,
  "nbformat_minor": 0,
  "metadata": {
    "colab": {
      "provenance": []
    },
    "kernelspec": {
      "name": "python3",
      "display_name": "Python 3"
    },
    "language_info": {
      "name": "python"
    }
  },
  "cells": [
    {
      "cell_type": "code",
      "source": [
        "import torch\n",
        "from collections import Counter\n",
        "from intersection_over_union import intersection_over_union"
      ],
      "metadata": {
        "id": "ib0d1B4SxkbF"
      },
      "execution_count": null,
      "outputs": []
    },
    {
      "cell_type": "markdown",
      "source": [
        "#Mean avearge Precision:\n",
        "the steps:\n",
        "1.   get all bounding box predictions on our test set\n",
        "2.   sort the descending confidence scores\n",
        "3.   calcultate the precision and recall as we go through all outputs.\n",
        "4.  plot a graph of the precision in relation to the recall.\n",
        "5.  calculate the Area nnder the previous graph.\n",
        "6.  this process should be done for all classes.\n",
        "7.  all this step are done for the threshold of 0.5, we need to this calculations for many IOUs \"0.5,0.55,0.6,...,0.95\" , and finaally average them to get mAP@0.5:0.05:0.95.\n",
        "\n",
        "\n"
      ],
      "metadata": {
        "id": "59_zlgRnxvrK"
      }
    },
    {
      "cell_type": "code",
      "execution_count": null,
      "metadata": {
        "id": "52tFfGEZpbN5"
      },
      "outputs": [],
      "source": [
        "#define a function to calculate mean average precision (mAP)\n",
        "def mean_average_precision(pred_boxes, true_boxes, iou_threshold=0.5, box_format=\"midpoint\", num_classes=20):\n",
        "  # This Function takes the following parameters:\n",
        "  #   1- pred_boxes: list of lists that containis predicted bboxes with the folllowing format for each bbox [train_idx, class_prediction, prob_score, x1, y1, x2, y2]\n",
        "  #   2- true_boxes: the same as above but for ground-truth bboxes\n",
        "  #   3- iou_threshold: threshold to determin if a predicted bbox is correct or not\n",
        "  #   4- box_format: either \"midpoint\" or \"corners\"\n",
        "  #   5- num_classes: number of classes\n",
        "  # and return the mAP across all classes \n",
        "\n",
        "  # list storing all AP for respective classes\n",
        "  average_precisions = []\n",
        "  # used for numerical stability later on\n",
        "  epsilon = 1e-6\n",
        "  #to calculate for each class\n",
        "  for c in range(num_classes):\n",
        "      detections = []\n",
        "      ground_truths = []\n",
        "      # Go through all predictions and targets,\n",
        "      # and only add the ones that belong to the\n",
        "      # current class c\n",
        "      for detection in pred_boxes:\n",
        "          if detection[1] == c:\n",
        "              detections.append(detection)\n",
        "      for true_box in true_boxes:\n",
        "          if true_box[1] == c:\n",
        "              ground_truths.append(true_box)\n",
        "      # find the amount of bboxes for each training example\n",
        "      # Counter here finds how many ground truth bboxes we get\n",
        "      # for each training example, so let's say img 0 has 3,\n",
        "      # img 1 has 5 then we will obtain a dictionary with:\n",
        "      # amount_bboxes = {0:3, 1:5}\n",
        "      amount_bboxes = Counter([gt[0] for gt in ground_truths])\n",
        "      # We then go through each key, val in this dictionary\n",
        "      # and convert to the following (w.r.t same example):\n",
        "      # ammount_bboxes = {0:torch.tensor[0,0,0], 1:torch.tensor[0,0,0,0,0]}\n",
        "      for key, val in amount_bboxes.items():\n",
        "          amount_bboxes[key] = torch.zeros(val)\n",
        "      # sort by box probabilities which is index 2\n",
        "      detections.sort(key=lambda x: x[2], reverse=True)\n",
        "      TP = torch.zeros((len(detections)))\n",
        "      FP = torch.zeros((len(detections)))\n",
        "      total_true_bboxes = len(ground_truths)\n",
        "      # If none exists for this class then we can safely skip\n",
        "      if total_true_bboxes == 0:\n",
        "          continue\n",
        "      for detection_idx, detection in enumerate(detections):\n",
        "          # Only take out the ground_truths that have the same\n",
        "          # training idx as detection\n",
        "          ground_truth_img = [bbox for bbox in ground_truths if bbox[0] == detection[0]]\n",
        "          num_gts = len(ground_truth_img)\n",
        "          best_iou = 0\n",
        "          for idx, gt in enumerate(ground_truth_img):\n",
        "              iou = intersection_over_union(torch.tensor(detection[3:]),torch.tensor(gt[3:]),box_format=box_format,)\n",
        "              if iou > best_iou:\n",
        "                  best_iou = iou\n",
        "                  best_gt_idx = idx\n",
        "          #so now we have taken out a single bounding box for a particular class in a particular\n",
        "          #image, and we have taken all the ground truth bounding boxes for that particular image\n",
        "          #and we compared that bounding box between all the target bounding boxes and we have checked\n",
        "          #the IOU's between all of them and kept track of the best iou\n",
        "\n",
        "          #check if the bect iou is greated that the threshold then the predictions is correct\n",
        "          if best_iou > iou_threshold:\n",
        "              # only detect ground truth detection once\n",
        "              if amount_bboxes[detection[0]][best_gt_idx] == 0:\n",
        "                  # true positive and add this bounding box to seen\n",
        "                  TP[detection_idx] = 1\n",
        "                  amount_bboxes[detection[0]][best_gt_idx] = 1\n",
        "              else:\n",
        "                  FP[detection_idx] = 1\n",
        "\n",
        "          # if IOU is lower then the detection is a false positive\n",
        "          else:\n",
        "              FP[detection_idx] = 1\n",
        "      TP_cumsum = torch.cumsum(TP, dim=0)\n",
        "      FP_cumsum = torch.cumsum(FP, dim=0)\n",
        "      recalls = TP_cumsum / (total_true_bboxes + epsilon)\n",
        "      precisions = TP_cumsum / (TP_cumsum + FP_cumsum + epsilon)\n",
        "      precisions = torch.cat((torch.tensor([1]), precisions))\n",
        "      recalls = torch.cat((torch.tensor([0]), recalls))\n",
        "      # torch.trapz for numerical integration\n",
        "      average_precisions.append(torch.trapz(precisions, recalls))\n",
        "  return sum(average_precisions) / len(average_precisions)\n"
      ]
    }
  ]
}